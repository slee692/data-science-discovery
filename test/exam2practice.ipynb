{
 "cells": [
  {
   "cell_type": "code",
   "execution_count": 3,
   "source": [
    "import pandas as pd\n",
    "import random\n",
    "\n",
    "# Write your simulation here:\n",
    "data = []\n",
    "for i in range(5000):\n",
    "    shapes = [\"pentagon\", \"octagon\", \"star\"]\n",
    "    shape1 = random.choice(shapes)\n",
    "    shapes.remove(shape1)\n",
    "    shape2 = random.choice(shapes)\n",
    "    d = {\"shape1\":shape1, \"shape2\":shape2}\n",
    "    data.append(d)\n",
    "\n",
    "\n",
    "# Make sure to store your simulation result as a DataFrame `df`:\n",
    "df = pd.DataFrame(data)\n",
    "df"
   ],
   "outputs": [],
   "metadata": {}
  },
  {
   "cell_type": "code",
   "execution_count": null,
   "source": [],
   "outputs": [],
   "metadata": {}
  }
 ],
 "metadata": {
  "orig_nbformat": 4,
  "language_info": {
   "name": "python",
   "version": "3.9.6",
   "mimetype": "text/x-python",
   "codemirror_mode": {
    "name": "ipython",
    "version": 3
   },
   "pygments_lexer": "ipython3",
   "nbconvert_exporter": "python",
   "file_extension": ".py"
  },
  "kernelspec": {
   "name": "python3",
   "display_name": "Python 3.9.6 64-bit"
  },
  "interpreter": {
   "hash": "aee8b7b246df8f9039afb4144a1f6fd8d2ca17a180786b69acc140d282b71a49"
  }
 },
 "nbformat": 4,
 "nbformat_minor": 2
}