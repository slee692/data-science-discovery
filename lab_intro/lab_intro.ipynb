{
 "cells": [
  {
   "cell_type": "markdown",
   "source": [
    "# Welcome to a Jupyter Notebook!\n",
    "\n",
    "You are in your very first Jupyter Notebook for Data Science Discovery!  Notebooks allow us to combine text (like you're reading now) with Python code.  You will complete a lab notebook like this for all of the labs.  Just like learning a new spoken language, you won't learn the language without practice -- labs are an important part of the course!\n",
    "\n",
    "Collaboration on labs is **extremely encouraged**.  If you find yourself stuck for more than a few minutes, ask a neighbor or course staff for help!  When you are giving help to your neighbor, explain the **idea and approach** to the problem without sharing the answer itself so they can have the same ah-hah moment!\n",
    "\n",
    "Let's get started!\n",
    "\n",
    "## Lab: Introduction to Data Science Discovery!\n",
    "\n",
    "In this lab, you will:\n",
    "\n",
    "- Explore how to navigate and use Jupyter notebooks (this tool you're looking at!)\n",
    "- Write a few basic Python commands\n",
    "- Learn how to turn in assignments using git"
   ],
   "metadata": {}
  },
  {
   "cell_type": "markdown",
   "source": [
    "# 1. Jupyter Notebooks\n",
    "\n",
    "\n",
    "## Types of Cells\n",
    "\n",
    "Jupyter notebooks are organized into rectangular **cells**.  Every **cell** will either be one of either:\n",
    "\n",
    "1. A **Markdown cell**, which contains text instructions (like the cell you are reading now).  **Markdown cells** will have formatted text and will have a white background.\n",
    "2. A **Python cell**, which contains Python code.  **Python cells** (which you will see shortly) will have a gray background and colored text."
   ],
   "metadata": {}
  },
  {
   "cell_type": "markdown",
   "source": [
    "## Editing Cells\n",
    "\n",
    "Every cell can be edited by **double clicking on the cell**.\n",
    "\n",
    "- Double click on this cell right now!\n",
    "- Edit the end of this line and add your name: ESTHER LEE\n",
    "\n",
    "Once you are finishing editing:\n",
    "\n",
    "- Press **CTRL + ENTER** to exit editing and \"run\" the cell.\n",
    "- Press **SHIFT + ENTER** to exit editing, \"run\" the cell, AND advance to the next cell.\n",
    "- (You can also press \\[▶| Run\\] at the top of the notebook to exit editing (same as SHIFT+ENTER))\n",
    "\n",
    "\"Running\" a Markdown cell will save it and make it part of your notebook.\n"
   ],
   "metadata": {}
  },
  {
   "cell_type": "markdown",
   "source": [
    "## Python Cells\n",
    "\n",
    "Python cells are cells that contain Python code -- the programming language we will use for Data Science Discovery.  When you \"run\" a Python cell, you will run your snippet of code!\n",
    "\n",
    "Python is a programming language that was designed to be easy and simple to use, and notebooks make it even easier to use.  The most basic operations that a computer can do are simple math.\n",
    "\n",
    "The next cell is your first Python cell, where we already asked the computer to compute `5 + 4`:"
   ],
   "metadata": {}
  },
  {
   "cell_type": "code",
   "execution_count": 1,
   "source": [
    "5 + 4"
   ],
   "outputs": [
    {
     "output_type": "execute_result",
     "data": {
      "text/plain": [
       "9"
      ]
     },
     "metadata": {},
     "execution_count": 1
    }
   ],
   "metadata": {}
  },
  {
   "cell_type": "markdown",
   "source": [
    "Notice above that there are two components to a single Python cell:\n",
    "\n",
    "- **In \\[#\\]:**, which shows the Python code you wrote (ex: `5 + 4` above)\n",
    "- **Out \\[#\\]:**, which shows the output from the Python (ex: `9` above, the answer)\n",
    "\n",
    "Let's have you try it! :)"
   ],
   "metadata": {}
  },
  {
   "cell_type": "markdown",
   "source": [
    "### Puzzle 1.1:\n",
    "\n",
    "In the next cell, use Python to compute the sum of `3` and `8`.\n",
    "\n",
    "- Remember to double click to edit the cell.\n",
    "- Also remember that you can use **SHIFT + ENTER** to exit and run the cell."
   ],
   "metadata": {}
  },
  {
   "cell_type": "code",
   "execution_count": 2,
   "source": [
    "3 + 8"
   ],
   "outputs": [
    {
     "output_type": "execute_result",
     "data": {
      "text/plain": [
       "11"
      ]
     },
     "metadata": {},
     "execution_count": 2
    }
   ],
   "metadata": {}
  },
  {
   "cell_type": "markdown",
   "source": [
    "### Puzzle 1.2:\n",
    "\n",
    "In the next cell, use Python to compute the product of the numbers `7` and `5`.\n",
    "- Hint: In Python, the `*` symbol used for multiplication."
   ],
   "metadata": {}
  },
  {
   "cell_type": "code",
   "execution_count": 3,
   "source": [
    "7 * 5"
   ],
   "outputs": [
    {
     "output_type": "execute_result",
     "data": {
      "text/plain": [
       "35"
      ]
     },
     "metadata": {},
     "execution_count": 3
    }
   ],
   "metadata": {}
  },
  {
   "cell_type": "markdown",
   "source": [
    "### Puzzle 1.3:\n",
    "\n",
    "In addition to addition (`+`), subtraction (`-`), multiplication (`*`), and division (`/`), Python can also raise a number to a power (ex: $2^4$).  The syntax to do this in Python is to use `**`.\n",
    "\n",
    "For example, the Python code for $2^4$ is:"
   ],
   "metadata": {}
  },
  {
   "cell_type": "code",
   "execution_count": 9,
   "source": [
    "2 ** 4"
   ],
   "outputs": [
    {
     "output_type": "execute_result",
     "data": {
      "text/plain": [
       "16"
      ]
     },
     "metadata": {},
     "execution_count": 9
    }
   ],
   "metadata": {}
  },
  {
   "cell_type": "markdown",
   "source": [
    "Using everything you know, use the following cell to compute the value of $(3 + 5) * 9^2$"
   ],
   "metadata": {}
  },
  {
   "cell_type": "code",
   "execution_count": 6,
   "source": [
    "(3 + 5) * (9 ** 2)"
   ],
   "outputs": [
    {
     "output_type": "execute_result",
     "data": {
      "text/plain": [
       "648"
      ]
     },
     "metadata": {},
     "execution_count": 6
    }
   ],
   "metadata": {}
  },
  {
   "cell_type": "markdown",
   "source": [
    "# 2. Print Statements in Python\n",
    "\n",
    "In all of the previous puzzles, the text in the **Out\\[#\\]** was the result of your Python code.  In a notebook, the notebook will always **automatically print out the result of the last line of Python code**.\n",
    "\n",
    "Because ONLY the last line is automatically printed, what do you expect to happen when the following code is run?"
   ],
   "metadata": {}
  },
  {
   "cell_type": "code",
   "execution_count": 7,
   "source": [
    "1 + 1\n",
    "2 + 2\n",
    "3 + 3"
   ],
   "outputs": [
    {
     "output_type": "execute_result",
     "data": {
      "text/plain": [
       "6"
      ]
     },
     "metadata": {},
     "execution_count": 7
    }
   ],
   "metadata": {}
  },
  {
   "cell_type": "markdown",
   "source": [
    "...run the cell and find out!"
   ],
   "metadata": {}
  },
  {
   "cell_type": "markdown",
   "source": [
    "## Using the print() function\n",
    "\n",
    "If you want to print out things that is NOT the result of the last line, Python has a **function** called `print(...)` that will output everything between `(` and `)`.  For example, the same example with `print()`:"
   ],
   "metadata": {}
  },
  {
   "cell_type": "code",
   "execution_count": 8,
   "source": [
    "print( 1 + 1 )\n",
    "print( 2 + 2 )\n",
    "print( 3 + 3 )"
   ],
   "outputs": [
    {
     "output_type": "stream",
     "name": "stdout",
     "text": [
      "2\n",
      "4\n",
      "6\n"
     ]
    }
   ],
   "metadata": {}
  },
  {
   "cell_type": "markdown",
   "source": [
    "### Using Strings\n",
    "\n",
    "In Python, we often want to print out more than just numbers.  If you want to print words out, Python requires that **strings** are in quotes.  One of the most simple programs is a program that prints `\"Hello World\"` (notice the quotes)!\n",
    "\n",
    "The following `print()` command does exactly that:"
   ],
   "metadata": {}
  },
  {
   "cell_type": "code",
   "execution_count": 13,
   "source": [
    "print(\"Hello World\")"
   ],
   "outputs": [
    {
     "output_type": "stream",
     "name": "stdout",
     "text": [
      "Hello World\n"
     ]
    }
   ],
   "metadata": {}
  },
  {
   "cell_type": "markdown",
   "source": [
    "Notice that the quotes **do not appear in the output**.  Instead, Python uses the quotes to know that the contents inside of the quotes are a  **string**.\n",
    "\n",
    "If you forget to add the quotes, Python will provide an error message:"
   ],
   "metadata": {}
  },
  {
   "cell_type": "code",
   "execution_count": 17,
   "source": [
    "print(Hello World)"
   ],
   "outputs": [
    {
     "output_type": "error",
     "ename": "SyntaxError",
     "evalue": "invalid syntax (<ipython-input-17-10cb182148e3>, line 1)",
     "traceback": [
      "\u001b[1;36m  File \u001b[1;32m\"<ipython-input-17-10cb182148e3>\"\u001b[1;36m, line \u001b[1;32m1\u001b[0m\n\u001b[1;33m    print(Hello World)\u001b[0m\n\u001b[1;37m                    ^\u001b[0m\n\u001b[1;31mSyntaxError\u001b[0m\u001b[1;31m:\u001b[0m invalid syntax\n"
     ]
    }
   ],
   "metadata": {}
  },
  {
   "cell_type": "markdown",
   "source": [
    "Errors are what makes programming difficult and **EVERYONE** makes errors programming.  Errors happen when Python does not understand the code you typed.  Python will do it's best to give you useful information in the error message, but the messages are often generic or confusing."
   ],
   "metadata": {}
  },
  {
   "cell_type": "markdown",
   "source": [
    "#### Emojis Work, Too!\n",
    "\n",
    "Anything that is not a number goes into a quotes and we will refer to these as **strings**.  This even includes emojis:"
   ],
   "metadata": {}
  },
  {
   "cell_type": "code",
   "execution_count": 9,
   "source": [
    "print(\"🎉\")"
   ],
   "outputs": [
    {
     "output_type": "stream",
     "name": "stdout",
     "text": [
      "🎉\n"
     ]
    }
   ],
   "metadata": {}
  },
  {
   "cell_type": "markdown",
   "source": [
    "### Puzzle 2.1:\n",
    "\n",
    "Using the `print()` function, print your name in the output of the next cell:"
   ],
   "metadata": {}
  },
  {
   "cell_type": "code",
   "execution_count": 10,
   "source": [
    "print(\"Esther Lee\")"
   ],
   "outputs": [
    {
     "output_type": "stream",
     "name": "stdout",
     "text": [
      "Esther Lee\n"
     ]
    }
   ],
   "metadata": {}
  },
  {
   "cell_type": "markdown",
   "source": [
    "### Puzzle 2.2:\n",
    "\n",
    "Using the `print()` function, print the **result** of the following three things on separate lines:\n",
    "- $(4 * 3)^2$\n",
    "- Data Science Discovery\n",
    "- $8 - 3$"
   ],
   "metadata": {}
  },
  {
   "cell_type": "code",
   "execution_count": 11,
   "source": [
    "print((4 * 3) ** 2)\n",
    "print(\"Data Science Discovery\")\n",
    "print(8 - 3)"
   ],
   "outputs": [
    {
     "output_type": "stream",
     "name": "stdout",
     "text": [
      "144\n",
      "Data Science Discovery\n",
      "5\n"
     ]
    }
   ],
   "metadata": {}
  },
  {
   "cell_type": "markdown",
   "source": [
    "# 3. Names in Python\n",
    "*This section has been adopted from Berkeley's Data8: Lab \\#1 from Spring 2017*\n",
    "\n",
    "In natural language, we have terminology that lets us quickly reference very complicated concepts. We don't say, \"That's a large slow mammal with brown fur and three toes!\" Instead, we just say, \"SLOTH!\"\n",
    "\n",
    "Similarly, an effective strategy for writing code is to define names for data as we compute it, like a lawyer would define terms for complex ideas at the start of a legal document to simplify the rest of the writing.\n",
    "\n",
    "In Python, we do this with assignment statements. An assignment statement has a name on the left side of an `=` sign and an expression to be evaluated on the right."
   ],
   "metadata": {}
  },
  {
   "cell_type": "code",
   "execution_count": 12,
   "source": [
    "ten = 3 * 2 + 4"
   ],
   "outputs": [],
   "metadata": {}
  },
  {
   "cell_type": "markdown",
   "source": [
    "When you run that cell, Python first evaluates the first line. It computes the value of the expression `3 * 2 + 4`, which is the number 10. Then it gives that value the name `ten`. At that point, the code in the cell is done running.\n",
    "\n",
    "After you run that cell, the value 10 is bound to the name `ten`:"
   ],
   "metadata": {}
  },
  {
   "cell_type": "code",
   "execution_count": 13,
   "source": [
    "ten"
   ],
   "outputs": [
    {
     "output_type": "execute_result",
     "data": {
      "text/plain": [
       "10"
      ]
     },
     "metadata": {},
     "execution_count": 13
    }
   ],
   "metadata": {}
  },
  {
   "cell_type": "markdown",
   "source": [
    "The statement `ten = 3 * 2 + 4` is not asserting that ten is already equal to `3 * 2 + 4`, as we might expect by analogy with math notation. Rather, that line of code changes what `ten` means; it now refers to the value 10, whereas before it meant nothing at all."
   ],
   "metadata": {}
  },
  {
   "cell_type": "markdown",
   "source": [
    "### Question 3.1.\n",
    "\n",
    "Try writing code that uses a name (like `eleven`) that hasn't been assigned to anything.\n",
    "\n",
    "* You should see an **ERROR** -- this is expected."
   ],
   "metadata": {}
  },
  {
   "cell_type": "code",
   "execution_count": 18,
   "source": [
    "twelve"
   ],
   "outputs": [
    {
     "output_type": "execute_result",
     "data": {
      "text/plain": [
       "12"
      ]
     },
     "metadata": {},
     "execution_count": 18
    }
   ],
   "metadata": {}
  },
  {
   "cell_type": "markdown",
   "source": [
    "### Question 3.2.\n",
    "\n",
    "Now, define the value of the name that gave you an error:"
   ],
   "metadata": {}
  },
  {
   "cell_type": "code",
   "execution_count": 16,
   "source": [
    "twelve = 12"
   ],
   "outputs": [],
   "metadata": {}
  },
  {
   "cell_type": "markdown",
   "source": [
    "### Question 3.3.\n",
    "\n",
    "Finally, try using that name again:"
   ],
   "metadata": {}
  },
  {
   "cell_type": "code",
   "execution_count": 17,
   "source": [
    "twelve"
   ],
   "outputs": [
    {
     "output_type": "execute_result",
     "data": {
      "text/plain": [
       "12"
      ]
     },
     "metadata": {},
     "execution_count": 17
    }
   ],
   "metadata": {}
  },
  {
   "cell_type": "markdown",
   "source": [
    "## Common Patterns with Names:\n",
    "\n",
    "A common pattern in Jupyter notebooks is to assign a value to a name and then immediately evaluate the name in the last line in the cell so that the value is displayed as output:"
   ],
   "metadata": {}
  },
  {
   "cell_type": "code",
   "execution_count": 19,
   "source": [
    "close_to_pi = 355/113\n",
    "close_to_pi"
   ],
   "outputs": [
    {
     "output_type": "execute_result",
     "data": {
      "text/plain": [
       "3.1415929203539825"
      ]
     },
     "metadata": {},
     "execution_count": 19
    }
   ],
   "metadata": {}
  },
  {
   "cell_type": "markdown",
   "source": [
    "Another common pattern is that a series of lines in a single cell will build up a complex computation in stages, naming the intermediate results."
   ],
   "metadata": {}
  },
  {
   "cell_type": "code",
   "execution_count": 29,
   "source": [
    "paycheck = 840\n",
    "monthly_salary = 2 * paycheck\n",
    "number_of_months_in_a_year = 12\n",
    "yearly_salary = number_of_months_in_a_year * monthly_salary\n",
    "yearly_salary"
   ],
   "outputs": [
    {
     "output_type": "execute_result",
     "data": {
      "text/plain": [
       "20160"
      ]
     },
     "metadata": {},
     "execution_count": 29
    }
   ],
   "metadata": {}
  },
  {
   "cell_type": "markdown",
   "source": [
    "Names in Python can have letters (upper- and lower-case letters are both okay and count as different letters), underscores, and numbers. The first character can't be a number (otherwise a name might look like a number). And names can't contain spaces, since spaces are used to separate pieces of code from each other.\n",
    "\n",
    "Other than those rules, what you name something doesn't matter to Python. For example, this cell does the same thing as the above cell, except everything has a different name:"
   ],
   "metadata": {}
  },
  {
   "cell_type": "code",
   "execution_count": 22,
   "source": [
    "a = 840\n",
    "b = 2 * a\n",
    "c = 12\n",
    "d = c * b\n",
    "d"
   ],
   "outputs": [
    {
     "output_type": "execute_result",
     "data": {
      "text/plain": [
       "20160"
      ]
     },
     "metadata": {},
     "execution_count": 22
    }
   ],
   "metadata": {}
  },
  {
   "cell_type": "markdown",
   "source": [
    "**However**, names are very important for making your code readable to yourself and others. The cell above is shorter, but it's totally useless without an explanation of what it does."
   ],
   "metadata": {}
  },
  {
   "cell_type": "markdown",
   "source": [
    "### Puzzle 3.4:\n",
    "\n",
    "Assign the name `seconds_in_a_decade` to the number of seconds between midnight January 1, 2010 and midnight January 1, 2020.\n",
    "\n",
    "- You will want to think about how this is computed before you start writing code.  Pencil and paper works great!\n",
    "- Any line of code in Python that begins with an `#` is a comment and is ignored by Python.  We have added some comments to help you out here."
   ],
   "metadata": {}
  },
  {
   "cell_type": "code",
   "execution_count": 23,
   "source": [
    "# Change the next line so that it computes the number of\n",
    "# seconds in a decade and assigns that number the name\n",
    "# seconds_in_a_decade.\n",
    "years_in_a_decade = 10\n",
    "days_in_a_decade = 365 * years_in_a_decade\n",
    "hours_in_a_decade = 24 * days_in_a_decade\n",
    "minutes_in_a_decade = 60 * hours_in_a_decade\n",
    "\n",
    "# (You may want to add other names to help you calculate\n",
    "# this value.)\n",
    "seconds_in_a_decade = 60 * minutes_in_a_decade\n",
    "\n",
    "# We've put this line in this cell so that it will print\n",
    "# the value you've given to seconds_in_a_decade when you\n",
    "# run it.  You don't need to change this.\n",
    "seconds_in_a_decade"
   ],
   "outputs": [
    {
     "output_type": "execute_result",
     "data": {
      "text/plain": [
       "315360000"
      ]
     },
     "metadata": {},
     "execution_count": 23
    }
   ],
   "metadata": {}
  },
  {
   "cell_type": "markdown",
   "source": [
    "## Submit Your Work"
   ],
   "metadata": {}
  },
  {
   "cell_type": "markdown",
   "source": [
    "You're almost done -- congratulations!\n",
    "\n",
    "You need to do two more things:\n",
    "\n",
    "1. Save your work.  To do this, go to **File -> Save All**\n",
    "\n",
    "2. After you have saved, exit this notebook and follow the webpage instructions to commit this lab to your Git repository!"
   ],
   "metadata": {}
  },
  {
   "cell_type": "code",
   "execution_count": null,
   "source": [],
   "outputs": [],
   "metadata": {}
  }
 ],
 "metadata": {
  "kernelspec": {
   "name": "python3",
   "display_name": "Python 3.9.6 64-bit"
  },
  "language_info": {
   "codemirror_mode": {
    "name": "ipython",
    "version": 3
   },
   "file_extension": ".py",
   "mimetype": "text/x-python",
   "name": "python",
   "nbconvert_exporter": "python",
   "pygments_lexer": "ipython3",
   "version": "3.9.6"
  },
  "interpreter": {
   "hash": "aee8b7b246df8f9039afb4144a1f6fd8d2ca17a180786b69acc140d282b71a49"
  }
 },
 "nbformat": 4,
 "nbformat_minor": 2
}